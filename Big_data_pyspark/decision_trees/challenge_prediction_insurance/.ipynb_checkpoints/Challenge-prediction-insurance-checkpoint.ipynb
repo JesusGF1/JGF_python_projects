{
 "cells": [
  {
   "cell_type": "markdown",
   "metadata": {},
   "source": [
    "## Notebook written by Jesus Gonzalez Ferrer "
   ]
  },
  {
   "cell_type": "code",
   "execution_count": 1,
   "metadata": {},
   "outputs": [],
   "source": [
    "from pyspark.sql import SparkSession\n",
    "spark = SparkSession.builder.appName('insurance_challenge').getOrCreate()"
   ]
  },
  {
   "cell_type": "code",
   "execution_count": 2,
   "metadata": {},
   "outputs": [],
   "source": [
    "df = spark.read.csv('train.csv', header=True, inferSchema=True)"
   ]
  },
  {
   "cell_type": "code",
   "execution_count": 3,
   "metadata": {},
   "outputs": [
    {
     "name": "stdout",
     "output_type": "stream",
     "text": [
      "root\n",
      " |-- id: integer (nullable = true)\n",
      " |-- cat_0: string (nullable = true)\n",
      " |-- cat_1: string (nullable = true)\n",
      " |-- cat_2: string (nullable = true)\n",
      " |-- cat_3: string (nullable = true)\n",
      " |-- cat_4: string (nullable = true)\n",
      " |-- cat_5: string (nullable = true)\n",
      " |-- cat_6: string (nullable = true)\n",
      " |-- cat_7: string (nullable = true)\n",
      " |-- cat_8: string (nullable = true)\n",
      " |-- cat_9: string (nullable = true)\n",
      " |-- cat_10: string (nullable = true)\n",
      " |-- cat_11: string (nullable = true)\n",
      " |-- cat_12: string (nullable = true)\n",
      " |-- cat_13: string (nullable = true)\n",
      " |-- cat_14: string (nullable = true)\n",
      " |-- cat_15: string (nullable = true)\n",
      " |-- cat_16: string (nullable = true)\n",
      " |-- cat_17: string (nullable = true)\n",
      " |-- cat_18: string (nullable = true)\n",
      " |-- cont_0: double (nullable = true)\n",
      " |-- cont_1: double (nullable = true)\n",
      " |-- cont_2: double (nullable = true)\n",
      " |-- cont_3: double (nullable = true)\n",
      " |-- cont_4: double (nullable = true)\n",
      " |-- cont_5: double (nullable = true)\n",
      " |-- cont_6: double (nullable = true)\n",
      " |-- cont_7: double (nullable = true)\n",
      " |-- cont_8: double (nullable = true)\n",
      " |-- cont_9: double (nullable = true)\n",
      " |-- cont_10: double (nullable = true)\n",
      " |-- target: integer (nullable = true)\n",
      "\n"
     ]
    }
   ],
   "source": [
    "df.printSchema()"
   ]
  },
  {
   "cell_type": "code",
   "execution_count": 4,
   "metadata": {},
   "outputs": [
    {
     "data": {
      "text/plain": [
       "300000"
      ]
     },
     "execution_count": 4,
     "metadata": {},
     "output_type": "execute_result"
    }
   ],
   "source": [
    "df.count()"
   ]
  },
  {
   "cell_type": "code",
   "execution_count": 5,
   "metadata": {},
   "outputs": [
    {
     "data": {
      "text/plain": [
       "[Row(id=0, cat_0='A', cat_1='I', cat_2='A', cat_3='B', cat_4='B', cat_5='BI', cat_6='A', cat_7='S', cat_8='Q', cat_9='A', cat_10='LO', cat_11='A', cat_12='A', cat_13='A', cat_14='A', cat_15='B', cat_16='D', cat_17='D', cat_18='B', cont_0=0.6298580932886344, cont_1=0.8553490496453626, cont_2=0.7594386994154677, cont_3=0.795549256871245, cont_4=0.6819172514031219, cont_5=0.6216718236057862, cont_6=0.5921843772206821, cont_7=0.7919207159113629, cont_8=0.8152537462248601, cont_9=0.965006328742958, cont_10=0.6659151198639575, target=1)]"
      ]
     },
     "execution_count": 5,
     "metadata": {},
     "output_type": "execute_result"
    }
   ],
   "source": [
    "df.head(1)"
   ]
  },
  {
   "cell_type": "code",
   "execution_count": 6,
   "metadata": {
    "scrolled": true
   },
   "outputs": [
    {
     "data": {
      "text/plain": [
       "['id',\n",
       " 'cat_0',\n",
       " 'cat_1',\n",
       " 'cat_2',\n",
       " 'cat_3',\n",
       " 'cat_4',\n",
       " 'cat_5',\n",
       " 'cat_6',\n",
       " 'cat_7',\n",
       " 'cat_8',\n",
       " 'cat_9',\n",
       " 'cat_10',\n",
       " 'cat_11',\n",
       " 'cat_12',\n",
       " 'cat_13',\n",
       " 'cat_14',\n",
       " 'cat_15',\n",
       " 'cat_16',\n",
       " 'cat_17',\n",
       " 'cat_18',\n",
       " 'cont_0',\n",
       " 'cont_1',\n",
       " 'cont_2',\n",
       " 'cont_3',\n",
       " 'cont_4',\n",
       " 'cont_5',\n",
       " 'cont_6',\n",
       " 'cont_7',\n",
       " 'cont_8',\n",
       " 'cont_9',\n",
       " 'cont_10',\n",
       " 'target']"
      ]
     },
     "execution_count": 6,
     "metadata": {},
     "output_type": "execute_result"
    }
   ],
   "source": [
    "df.columns"
   ]
  },
  {
   "cell_type": "code",
   "execution_count": 7,
   "metadata": {},
   "outputs": [
    {
     "data": {
      "text/plain": [
       "2"
      ]
     },
     "execution_count": 7,
     "metadata": {},
     "output_type": "execute_result"
    }
   ],
   "source": [
    "df.select('cat_0').distinct().count() #más interesting"
   ]
  },
  {
   "cell_type": "code",
   "execution_count": 8,
   "metadata": {},
   "outputs": [
    {
     "data": {
      "text/plain": [
       "15"
      ]
     },
     "execution_count": 8,
     "metadata": {},
     "output_type": "execute_result"
    }
   ],
   "source": [
    "df.select('cat_1').distinct().count() #intere"
   ]
  },
  {
   "cell_type": "code",
   "execution_count": 9,
   "metadata": {},
   "outputs": [
    {
     "data": {
      "text/plain": [
       "19"
      ]
     },
     "execution_count": 9,
     "metadata": {},
     "output_type": "execute_result"
    }
   ],
   "source": [
    "df.select('cat_2').distinct().count() #inter"
   ]
  },
  {
   "cell_type": "code",
   "execution_count": 10,
   "metadata": {},
   "outputs": [
    {
     "data": {
      "text/plain": [
       "13"
      ]
     },
     "execution_count": 10,
     "metadata": {},
     "output_type": "execute_result"
    }
   ],
   "source": [
    "df.select('cat_3').distinct().count() #okayinteresting"
   ]
  },
  {
   "cell_type": "code",
   "execution_count": 11,
   "metadata": {},
   "outputs": [
    {
     "data": {
      "text/plain": [
       "20"
      ]
     },
     "execution_count": 11,
     "metadata": {},
     "output_type": "execute_result"
    }
   ],
   "source": [
    "df.select('cat_4').distinct().count()"
   ]
  },
  {
   "cell_type": "code",
   "execution_count": 12,
   "metadata": {},
   "outputs": [
    {
     "data": {
      "text/plain": [
       "84"
      ]
     },
     "execution_count": 12,
     "metadata": {},
     "output_type": "execute_result"
    }
   ],
   "source": [
    "df.select('cat_5').distinct().count() #not very interesting"
   ]
  },
  {
   "cell_type": "code",
   "execution_count": 13,
   "metadata": {},
   "outputs": [
    {
     "data": {
      "text/plain": [
       "16"
      ]
     },
     "execution_count": 13,
     "metadata": {},
     "output_type": "execute_result"
    }
   ],
   "source": [
    "df.select('cat_6').distinct().count()"
   ]
  },
  {
   "cell_type": "code",
   "execution_count": 14,
   "metadata": {},
   "outputs": [
    {
     "data": {
      "text/plain": [
       "51"
      ]
     },
     "execution_count": 14,
     "metadata": {},
     "output_type": "execute_result"
    }
   ],
   "source": [
    "df.select('cat_7').distinct().count() #not very interesting"
   ]
  },
  {
   "cell_type": "code",
   "execution_count": 15,
   "metadata": {},
   "outputs": [
    {
     "data": {
      "text/plain": [
       "61"
      ]
     },
     "execution_count": 15,
     "metadata": {},
     "output_type": "execute_result"
    }
   ],
   "source": [
    "df.select('cat_8').distinct().count() #not very interesting"
   ]
  },
  {
   "cell_type": "code",
   "execution_count": 16,
   "metadata": {},
   "outputs": [
    {
     "data": {
      "text/plain": [
       "19"
      ]
     },
     "execution_count": 16,
     "metadata": {},
     "output_type": "execute_result"
    }
   ],
   "source": [
    "df.select('cat_9').distinct().count() #interesting"
   ]
  },
  {
   "cell_type": "code",
   "execution_count": 17,
   "metadata": {},
   "outputs": [
    {
     "data": {
      "text/plain": [
       "297"
      ]
     },
     "execution_count": 17,
     "metadata": {},
     "output_type": "execute_result"
    }
   ],
   "source": [
    "df.select('cat_10').distinct().count() #not interesting"
   ]
  },
  {
   "cell_type": "code",
   "execution_count": 18,
   "metadata": {},
   "outputs": [
    {
     "data": {
      "text/plain": [
       "2"
      ]
     },
     "execution_count": 18,
     "metadata": {},
     "output_type": "execute_result"
    }
   ],
   "source": [
    "df.select('cat_11').distinct().count() #not interesting"
   ]
  },
  {
   "cell_type": "code",
   "execution_count": 19,
   "metadata": {},
   "outputs": [
    {
     "data": {
      "text/plain": [
       "2"
      ]
     },
     "execution_count": 19,
     "metadata": {},
     "output_type": "execute_result"
    }
   ],
   "source": [
    "df.select('cat_12').distinct().count()"
   ]
  },
  {
   "cell_type": "code",
   "execution_count": 20,
   "metadata": {},
   "outputs": [
    {
     "data": {
      "text/plain": [
       "2"
      ]
     },
     "execution_count": 20,
     "metadata": {},
     "output_type": "execute_result"
    }
   ],
   "source": [
    "df.select('cat_13').distinct().count()"
   ]
  },
  {
   "cell_type": "code",
   "execution_count": 21,
   "metadata": {},
   "outputs": [
    {
     "data": {
      "text/plain": [
       "2"
      ]
     },
     "execution_count": 21,
     "metadata": {},
     "output_type": "execute_result"
    }
   ],
   "source": [
    "df.select('cat_14').distinct().count()"
   ]
  },
  {
   "cell_type": "code",
   "execution_count": 22,
   "metadata": {},
   "outputs": [
    {
     "data": {
      "text/plain": [
       "4"
      ]
     },
     "execution_count": 22,
     "metadata": {},
     "output_type": "execute_result"
    }
   ],
   "source": [
    "df.select('cat_15').distinct().count()"
   ]
  },
  {
   "cell_type": "code",
   "execution_count": 23,
   "metadata": {},
   "outputs": [
    {
     "data": {
      "text/plain": [
       "4"
      ]
     },
     "execution_count": 23,
     "metadata": {},
     "output_type": "execute_result"
    }
   ],
   "source": [
    "df.select('cat_16').distinct().count()"
   ]
  },
  {
   "cell_type": "code",
   "execution_count": 24,
   "metadata": {},
   "outputs": [
    {
     "data": {
      "text/plain": [
       "4"
      ]
     },
     "execution_count": 24,
     "metadata": {},
     "output_type": "execute_result"
    }
   ],
   "source": [
    "df.select('cat_17').distinct().count()"
   ]
  },
  {
   "cell_type": "code",
   "execution_count": 25,
   "metadata": {},
   "outputs": [
    {
     "data": {
      "text/plain": [
       "4"
      ]
     },
     "execution_count": 25,
     "metadata": {},
     "output_type": "execute_result"
    }
   ],
   "source": [
    "df.select('cat_18').distinct().count()"
   ]
  },
  {
   "cell_type": "code",
   "execution_count": 26,
   "metadata": {},
   "outputs": [
    {
     "name": "stdout",
     "output_type": "stream",
     "text": [
      "['enc_0', 'enc_1', 'enc_2', 'enc_3', 'enc_4', 'enc_5', 'enc_6', 'enc_7', 'enc_8', 'enc_9', 'enc_10', 'enc_11', 'enc_12', 'enc_13', 'enc_14', 'enc_15', 'enc_16', 'enc_17', 'enc_18', 'cont_0', 'cont_1', 'cont_2', 'cont_3', 'cont_4', 'cont_5', 'cont_6', 'cont_7', 'cont_8', 'cont_9', 'cont_10']\n"
     ]
    }
   ],
   "source": [
    "from pyspark.ml.feature import VectorAssembler, StringIndexer, OneHotEncoder, VectorIndexer\n",
    "cat_cols = list()\n",
    "int_cat_cols = list()\n",
    "enc_cat_cols = list()\n",
    "assembler_cols = list()\n",
    "\n",
    "for column in df.columns[1:-12]:\n",
    "    cat_cols.append(column)\n",
    "    int_cat_cols.append(\"int\"+column[3:])\n",
    "    enc_cat_cols.append(\"enc\"+column[3:])\n",
    "    assembler_cols.append(\"enc\"+column[3:])\n",
    "\n",
    "for column in df.columns[-12:-1]:\n",
    "    assembler_cols.append(column)\n",
    "    \n",
    "#print(cat_cols)\n",
    "#print(int_cat_cols)\n",
    "#print(enc_cat_cols)\n",
    "print(assembler_cols)\n",
    "    "
   ]
  },
  {
   "cell_type": "code",
   "execution_count": 27,
   "metadata": {},
   "outputs": [],
   "source": [
    "from pyspark.ml.classification import(RandomForestClassifier, GBTClassifier,DecisionTreeClassifier)\n",
    "from pyspark.ml import Pipeline"
   ]
  },
  {
   "cell_type": "code",
   "execution_count": 29,
   "metadata": {},
   "outputs": [],
   "source": [
    "pipe_steps = list()\n",
    "for i in range(len(cat_cols)):\n",
    "    pipe_steps.append(StringIndexer(inputCol=cat_cols[i], outputCol=int_cat_cols[i], handleInvalid=\"keep\"))\n",
    "    pipe_steps.append(OneHotEncoder(inputCol=int_cat_cols[i], outputCol=enc_cat_cols[i] ))\n",
    "\n",
    "assembler = VectorAssembler(inputCols = assembler_cols, outputCol = \"features\")\n",
    "pipe_steps.append(assembler)\n",
    "\n",
    "\n",
    "dtc = DecisionTreeClassifier(labelCol=\"target\")\n",
    "rfc = RandomForestClassifier(labelCol=\"target\", numTrees = 100)\n",
    "gbt = GBTClassifier(labelCol=\"target\")\n",
    "\n",
    "train, test = df.randomSplit([0.7, 0.3])\n",
    "\n"
   ]
  },
  {
   "cell_type": "code",
   "execution_count": 30,
   "metadata": {},
   "outputs": [
    {
     "data": {
      "text/plain": [
       "[StringIndexer_00e761ed654e,\n",
       " OneHotEncoder_f28d6bf9c6c2,\n",
       " StringIndexer_f01da8ae3c79,\n",
       " OneHotEncoder_9fe941fcf726,\n",
       " StringIndexer_666d958b689e,\n",
       " OneHotEncoder_1cadb1dee188,\n",
       " StringIndexer_0495471dc649,\n",
       " OneHotEncoder_fae17146ce30,\n",
       " StringIndexer_8e90790cf4c8,\n",
       " OneHotEncoder_8b3ea8786520,\n",
       " StringIndexer_23121f5cdd22,\n",
       " OneHotEncoder_c1b8051d2d88,\n",
       " StringIndexer_9e8c10f7d8f9,\n",
       " OneHotEncoder_9e5bb41a2cca,\n",
       " StringIndexer_40138e9430f9,\n",
       " OneHotEncoder_9f7faa1c3676,\n",
       " StringIndexer_a1dbee18682c,\n",
       " OneHotEncoder_71ed4667eaa2,\n",
       " StringIndexer_077d3316bf84,\n",
       " OneHotEncoder_84c93ff1d437,\n",
       " StringIndexer_91ea2cf5861b,\n",
       " OneHotEncoder_a9d15a52af70,\n",
       " StringIndexer_d9c81009d794,\n",
       " OneHotEncoder_100c2099a41b,\n",
       " StringIndexer_3eb1b505c0e9,\n",
       " OneHotEncoder_ff93dfd1e98e,\n",
       " StringIndexer_17dc21a3cfc7,\n",
       " OneHotEncoder_9ae119bc69e6,\n",
       " StringIndexer_8ac72c1c4709,\n",
       " OneHotEncoder_4cf0601f0973,\n",
       " StringIndexer_948e5d67d1c9,\n",
       " OneHotEncoder_d4d4fbba6eba,\n",
       " StringIndexer_5993523f001b,\n",
       " OneHotEncoder_ae6d6f865cd1,\n",
       " StringIndexer_e1bcdf588d3f,\n",
       " OneHotEncoder_b0efde0acc1b,\n",
       " StringIndexer_903997c16a82,\n",
       " OneHotEncoder_4a6eb716620a,\n",
       " VectorAssembler_b76a7e6c3653]"
      ]
     },
     "execution_count": 30,
     "metadata": {},
     "output_type": "execute_result"
    }
   ],
   "source": [
    "pipe_steps"
   ]
  },
  {
   "cell_type": "code",
   "execution_count": 31,
   "metadata": {},
   "outputs": [],
   "source": [
    "pipe_steps.append(rfc)\n",
    "pipeline_rfc=Pipeline(stages=pipe_steps)\n",
    "rfc_model = pipeline_rfc.fit(train)\n"
   ]
  },
  {
   "cell_type": "code",
   "execution_count": 32,
   "metadata": {},
   "outputs": [],
   "source": [
    "from pyspark.ml.evaluation import MulticlassClassificationEvaluator"
   ]
  },
  {
   "cell_type": "code",
   "execution_count": 34,
   "metadata": {},
   "outputs": [
    {
     "name": "stdout",
     "output_type": "stream",
     "text": [
      "0.8199562547881022\n"
     ]
    }
   ],
   "source": [
    "preds_rfc = rfc_model.transform(test)\n",
    "evaluator = MulticlassClassificationEvaluator(labelCol=\"target\",metricName=\"accuracy\")\n",
    "print(evaluator.evaluate(preds_rfc))"
   ]
  },
  {
   "cell_type": "code",
   "execution_count": 35,
   "metadata": {},
   "outputs": [
    {
     "data": {
      "text/plain": [
       "[StringIndexer_00e761ed654e,\n",
       " OneHotEncoder_f28d6bf9c6c2,\n",
       " StringIndexer_f01da8ae3c79,\n",
       " OneHotEncoder_9fe941fcf726,\n",
       " StringIndexer_666d958b689e,\n",
       " OneHotEncoder_1cadb1dee188,\n",
       " StringIndexer_0495471dc649,\n",
       " OneHotEncoder_fae17146ce30,\n",
       " StringIndexer_8e90790cf4c8,\n",
       " OneHotEncoder_8b3ea8786520,\n",
       " StringIndexer_23121f5cdd22,\n",
       " OneHotEncoder_c1b8051d2d88,\n",
       " StringIndexer_9e8c10f7d8f9,\n",
       " OneHotEncoder_9e5bb41a2cca,\n",
       " StringIndexer_40138e9430f9,\n",
       " OneHotEncoder_9f7faa1c3676,\n",
       " StringIndexer_a1dbee18682c,\n",
       " OneHotEncoder_71ed4667eaa2,\n",
       " StringIndexer_077d3316bf84,\n",
       " OneHotEncoder_84c93ff1d437,\n",
       " StringIndexer_91ea2cf5861b,\n",
       " OneHotEncoder_a9d15a52af70,\n",
       " StringIndexer_d9c81009d794,\n",
       " OneHotEncoder_100c2099a41b,\n",
       " StringIndexer_3eb1b505c0e9,\n",
       " OneHotEncoder_ff93dfd1e98e,\n",
       " StringIndexer_17dc21a3cfc7,\n",
       " OneHotEncoder_9ae119bc69e6,\n",
       " StringIndexer_8ac72c1c4709,\n",
       " OneHotEncoder_4cf0601f0973,\n",
       " StringIndexer_948e5d67d1c9,\n",
       " OneHotEncoder_d4d4fbba6eba,\n",
       " StringIndexer_5993523f001b,\n",
       " OneHotEncoder_ae6d6f865cd1,\n",
       " StringIndexer_e1bcdf588d3f,\n",
       " OneHotEncoder_b0efde0acc1b,\n",
       " StringIndexer_903997c16a82,\n",
       " OneHotEncoder_4a6eb716620a,\n",
       " VectorAssembler_b76a7e6c3653]"
      ]
     },
     "execution_count": 35,
     "metadata": {},
     "output_type": "execute_result"
    }
   ],
   "source": [
    "pipe_steps.pop(-1)\n",
    "pipe_steps"
   ]
  },
  {
   "cell_type": "code",
   "execution_count": 36,
   "metadata": {},
   "outputs": [],
   "source": [
    "pipe_steps.append(dtc)\n",
    "pipeline_dtc=Pipeline(stages=pipe_steps)\n",
    "dtc_model = pipeline_dtc.fit(train)"
   ]
  },
  {
   "cell_type": "code",
   "execution_count": 37,
   "metadata": {},
   "outputs": [
    {
     "name": "stdout",
     "output_type": "stream",
     "text": [
      "0.8262515682769493\n"
     ]
    }
   ],
   "source": [
    "preds_dtc = dtc_model.transform(test)\n",
    "evaluator = MulticlassClassificationEvaluator(labelCol=\"target\",metricName=\"accuracy\")\n",
    "print(evaluator.evaluate(preds_dtc))"
   ]
  },
  {
   "cell_type": "code",
   "execution_count": 38,
   "metadata": {},
   "outputs": [
    {
     "data": {
      "text/plain": [
       "DecisionTreeClassifier_079008cf6244"
      ]
     },
     "execution_count": 38,
     "metadata": {},
     "output_type": "execute_result"
    }
   ],
   "source": [
    "pipe_steps.pop(-1)"
   ]
  },
  {
   "cell_type": "code",
   "execution_count": null,
   "metadata": {},
   "outputs": [],
   "source": [
    "pipe_steps"
   ]
  },
  {
   "cell_type": "code",
   "execution_count": 39,
   "metadata": {},
   "outputs": [],
   "source": [
    "pipe_steps.append(gbt)\n",
    "pipeline_gbt=Pipeline(stages=pipe_steps)\n",
    "gbt_model = pipeline_gbt.fit(train)"
   ]
  },
  {
   "cell_type": "code",
   "execution_count": 40,
   "metadata": {},
   "outputs": [
    {
     "name": "stdout",
     "output_type": "stream",
     "text": [
      "0.8322471049329944\n"
     ]
    }
   ],
   "source": [
    "preds_gbt = gbt_model.transform(test)\n",
    "evaluator = MulticlassClassificationEvaluator(labelCol=\"target\",metricName=\"accuracy\")\n",
    "print(evaluator.evaluate(preds_gbt))"
   ]
  },
  {
   "cell_type": "markdown",
   "metadata": {},
   "source": [
    "The GBT model produces the best accuracy results in our model."
   ]
  }
 ],
 "metadata": {
  "kernelspec": {
   "display_name": "Python 3",
   "language": "python",
   "name": "python3"
  },
  "language_info": {
   "codemirror_mode": {
    "name": "ipython",
    "version": 3
   },
   "file_extension": ".py",
   "mimetype": "text/x-python",
   "name": "python",
   "nbconvert_exporter": "python",
   "pygments_lexer": "ipython3",
   "version": "3.7.3"
  }
 },
 "nbformat": 4,
 "nbformat_minor": 2
}
