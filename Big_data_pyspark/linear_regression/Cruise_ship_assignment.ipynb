{
 "cells": [
  {
   "cell_type": "markdown",
   "metadata": {},
   "source": [
    "Loading the pyspark session and the data"
   ]
  },
  {
   "cell_type": "code",
   "execution_count": 69,
   "metadata": {},
   "outputs": [],
   "source": [
    "from pyspark.sql import SparkSession\n",
    "spark = SparkSession.builder.appName('cruise').getOrCreate()"
   ]
  },
  {
   "cell_type": "code",
   "execution_count": 70,
   "metadata": {},
   "outputs": [],
   "source": [
    "df = spark.read.csv('cruise_ship_info.csv', header = True, inferSchema = True)"
   ]
  },
  {
   "cell_type": "code",
   "execution_count": 71,
   "metadata": {
    "scrolled": true
   },
   "outputs": [
    {
     "name": "stdout",
     "output_type": "stream",
     "text": [
      "root\n",
      " |-- Ship_name: string (nullable = true)\n",
      " |-- Cruise_line: string (nullable = true)\n",
      " |-- Age: integer (nullable = true)\n",
      " |-- Tonnage: double (nullable = true)\n",
      " |-- passengers: double (nullable = true)\n",
      " |-- length: double (nullable = true)\n",
      " |-- cabins: double (nullable = true)\n",
      " |-- passenger_density: double (nullable = true)\n",
      " |-- crew: double (nullable = true)\n",
      "\n"
     ]
    }
   ],
   "source": [
    "df.printSchema()"
   ]
  },
  {
   "cell_type": "code",
   "execution_count": 72,
   "metadata": {},
   "outputs": [
    {
     "data": {
      "text/html": [
       "<div>\n",
       "<style scoped>\n",
       "    .dataframe tbody tr th:only-of-type {\n",
       "        vertical-align: middle;\n",
       "    }\n",
       "\n",
       "    .dataframe tbody tr th {\n",
       "        vertical-align: top;\n",
       "    }\n",
       "\n",
       "    .dataframe thead th {\n",
       "        text-align: right;\n",
       "    }\n",
       "</style>\n",
       "<table border=\"1\" class=\"dataframe\">\n",
       "  <thead>\n",
       "    <tr style=\"text-align: right;\">\n",
       "      <th></th>\n",
       "      <th>summary</th>\n",
       "      <th>Ship_name</th>\n",
       "      <th>Cruise_line</th>\n",
       "      <th>Age</th>\n",
       "      <th>Tonnage</th>\n",
       "      <th>passengers</th>\n",
       "      <th>length</th>\n",
       "      <th>cabins</th>\n",
       "      <th>passenger_density</th>\n",
       "      <th>crew</th>\n",
       "    </tr>\n",
       "  </thead>\n",
       "  <tbody>\n",
       "    <tr>\n",
       "      <th>0</th>\n",
       "      <td>count</td>\n",
       "      <td>158</td>\n",
       "      <td>158</td>\n",
       "      <td>158</td>\n",
       "      <td>158</td>\n",
       "      <td>158</td>\n",
       "      <td>158</td>\n",
       "      <td>158</td>\n",
       "      <td>158</td>\n",
       "      <td>158</td>\n",
       "    </tr>\n",
       "    <tr>\n",
       "      <th>1</th>\n",
       "      <td>mean</td>\n",
       "      <td>Infinity</td>\n",
       "      <td>None</td>\n",
       "      <td>15.689873417721518</td>\n",
       "      <td>71.28467088607599</td>\n",
       "      <td>18.45740506329114</td>\n",
       "      <td>8.130632911392404</td>\n",
       "      <td>8.830000000000005</td>\n",
       "      <td>39.90094936708861</td>\n",
       "      <td>7.794177215189873</td>\n",
       "    </tr>\n",
       "    <tr>\n",
       "      <th>2</th>\n",
       "      <td>stddev</td>\n",
       "      <td>NaN</td>\n",
       "      <td>None</td>\n",
       "      <td>7.615691058751413</td>\n",
       "      <td>37.229540025907866</td>\n",
       "      <td>9.677094775143416</td>\n",
       "      <td>1.793473548054825</td>\n",
       "      <td>4.4714172221480615</td>\n",
       "      <td>8.63921711391542</td>\n",
       "      <td>3.503486564627034</td>\n",
       "    </tr>\n",
       "    <tr>\n",
       "      <th>3</th>\n",
       "      <td>min</td>\n",
       "      <td>Adventure</td>\n",
       "      <td>Azamara</td>\n",
       "      <td>4</td>\n",
       "      <td>2.329</td>\n",
       "      <td>0.66</td>\n",
       "      <td>2.79</td>\n",
       "      <td>0.33</td>\n",
       "      <td>17.7</td>\n",
       "      <td>0.59</td>\n",
       "    </tr>\n",
       "    <tr>\n",
       "      <th>4</th>\n",
       "      <td>max</td>\n",
       "      <td>Zuiderdam</td>\n",
       "      <td>Windstar</td>\n",
       "      <td>48</td>\n",
       "      <td>220.0</td>\n",
       "      <td>54.0</td>\n",
       "      <td>11.82</td>\n",
       "      <td>27.0</td>\n",
       "      <td>71.43</td>\n",
       "      <td>21.0</td>\n",
       "    </tr>\n",
       "  </tbody>\n",
       "</table>\n",
       "</div>"
      ],
      "text/plain": [
       "  summary  Ship_name Cruise_line                 Age             Tonnage  \\\n",
       "0   count        158         158                 158                 158   \n",
       "1    mean   Infinity        None  15.689873417721518   71.28467088607599   \n",
       "2  stddev        NaN        None   7.615691058751413  37.229540025907866   \n",
       "3     min  Adventure     Azamara                   4               2.329   \n",
       "4     max  Zuiderdam    Windstar                  48               220.0   \n",
       "\n",
       "          passengers             length              cabins  \\\n",
       "0                158                158                 158   \n",
       "1  18.45740506329114  8.130632911392404   8.830000000000005   \n",
       "2  9.677094775143416  1.793473548054825  4.4714172221480615   \n",
       "3               0.66               2.79                0.33   \n",
       "4               54.0              11.82                27.0   \n",
       "\n",
       "   passenger_density               crew  \n",
       "0                158                158  \n",
       "1  39.90094936708861  7.794177215189873  \n",
       "2   8.63921711391542  3.503486564627034  \n",
       "3               17.7               0.59  \n",
       "4              71.43               21.0  "
      ]
     },
     "execution_count": 72,
     "metadata": {},
     "output_type": "execute_result"
    }
   ],
   "source": [
    "df.describe().toPandas()"
   ]
  },
  {
   "cell_type": "markdown",
   "metadata": {},
   "source": [
    "Importing stringindexer to index cruisle_line as a number"
   ]
  },
  {
   "cell_type": "code",
   "execution_count": 73,
   "metadata": {},
   "outputs": [],
   "source": [
    "from pyspark.ml.feature import StringIndexer"
   ]
  },
  {
   "cell_type": "code",
   "execution_count": 74,
   "metadata": {},
   "outputs": [],
   "source": [
    "lineIndexed = StringIndexer(inputCol='Cruise_line', outputCol='Cruise_line_ind')"
   ]
  },
  {
   "cell_type": "code",
   "execution_count": 75,
   "metadata": {},
   "outputs": [],
   "source": [
    "newdf = lineIndexed.fit(df).transform(df)"
   ]
  },
  {
   "cell_type": "markdown",
   "metadata": {},
   "source": [
    "assembling the features as one column"
   ]
  },
  {
   "cell_type": "code",
   "execution_count": 76,
   "metadata": {},
   "outputs": [],
   "source": [
    "from pyspark.ml.feature import VectorAssembler"
   ]
  },
  {
   "cell_type": "code",
   "execution_count": 77,
   "metadata": {},
   "outputs": [],
   "source": [
    "assembler = VectorAssembler(inputCols=['Age','Tonnage','passengers','length','cabins','passenger_density','Cruise_line_ind'], outputCol='features') #tengo las columnas de entrada y la pongo en una de salida, que será luego la de salida del algoritmo de aprendizaje.\n",
    "output = assembler.transform(newdf)"
   ]
  },
  {
   "cell_type": "code",
   "execution_count": 78,
   "metadata": {},
   "outputs": [],
   "source": [
    "final_data = output.select(['features', 'crew'])"
   ]
  },
  {
   "cell_type": "code",
   "execution_count": 79,
   "metadata": {},
   "outputs": [],
   "source": [
    "train_data, test_data = final_data.randomSplit([0.7, 0.3],seed=181120)"
   ]
  },
  {
   "cell_type": "code",
   "execution_count": 80,
   "metadata": {},
   "outputs": [
    {
     "name": "stdout",
     "output_type": "stream",
     "text": [
      "+-------+-----------------+\n",
      "|summary|             crew|\n",
      "+-------+-----------------+\n",
      "|  count|              158|\n",
      "|   mean|7.794177215189873|\n",
      "| stddev|3.503486564627034|\n",
      "|    min|             0.59|\n",
      "|    max|             21.0|\n",
      "+-------+-----------------+\n",
      "\n"
     ]
    }
   ],
   "source": [
    "final_data.describe().show() "
   ]
  },
  {
   "cell_type": "code",
   "execution_count": 81,
   "metadata": {},
   "outputs": [
    {
     "name": "stdout",
     "output_type": "stream",
     "text": [
      "+-------+------------------+\n",
      "|summary|              crew|\n",
      "+-------+------------------+\n",
      "|  count|               102|\n",
      "|   mean| 7.622450980392167|\n",
      "| stddev|3.3542015727505996|\n",
      "|    min|              0.59|\n",
      "|    max|              19.1|\n",
      "+-------+------------------+\n",
      "\n"
     ]
    }
   ],
   "source": [
    "train_data.describe().show() "
   ]
  },
  {
   "cell_type": "code",
   "execution_count": 82,
   "metadata": {},
   "outputs": [
    {
     "name": "stdout",
     "output_type": "stream",
     "text": [
      "+-------+-----------------+\n",
      "|summary|             crew|\n",
      "+-------+-----------------+\n",
      "|  count|               56|\n",
      "|   mean|8.106964285714287|\n",
      "| stddev|3.771373957322984|\n",
      "|    min|             0.88|\n",
      "|    max|             21.0|\n",
      "+-------+-----------------+\n",
      "\n"
     ]
    }
   ],
   "source": [
    "test_data.describe().show()"
   ]
  },
  {
   "cell_type": "code",
   "execution_count": 83,
   "metadata": {},
   "outputs": [],
   "source": [
    "from pyspark.ml.regression import LinearRegression"
   ]
  },
  {
   "cell_type": "code",
   "execution_count": 84,
   "metadata": {},
   "outputs": [],
   "source": [
    "lr = LinearRegression(labelCol='crew')"
   ]
  },
  {
   "cell_type": "code",
   "execution_count": 85,
   "metadata": {},
   "outputs": [],
   "source": [
    "lr_model = lr.fit(train_data)"
   ]
  },
  {
   "cell_type": "code",
   "execution_count": 86,
   "metadata": {},
   "outputs": [],
   "source": [
    "test_results = lr_model.evaluate(test_data) "
   ]
  },
  {
   "cell_type": "code",
   "execution_count": 87,
   "metadata": {},
   "outputs": [
    {
     "name": "stdout",
     "output_type": "stream",
     "text": [
      "+--------------------+\n",
      "|           residuals|\n",
      "+--------------------+\n",
      "|-0.29318854988315834|\n",
      "|  0.7509607337559192|\n",
      "| 0.38491960984270435|\n",
      "|  0.3280766604255767|\n",
      "| -0.3577624591654356|\n",
      "|  0.9635488882175807|\n",
      "| -0.5912661235950694|\n",
      "|  1.0550199702207852|\n",
      "|-0.09292801197328693|\n",
      "|-0.20954427350200078|\n",
      "|-0.43934298181908993|\n",
      "| -1.2003627702437765|\n",
      "| 0.03470852985550543|\n",
      "|  1.2061418558864343|\n",
      "|  1.0037796738494258|\n",
      "| -1.1874558886932753|\n",
      "|-0.04821601078154192|\n",
      "|  0.3044061680897121|\n",
      "|  0.9412710276839746|\n",
      "|  1.0413591632305383|\n",
      "+--------------------+\n",
      "only showing top 20 rows\n",
      "\n"
     ]
    }
   ],
   "source": [
    "test_results.residuals.show()"
   ]
  },
  {
   "cell_type": "markdown",
   "metadata": {},
   "source": [
    "Metrics for the model that includes the cruise_line"
   ]
  },
  {
   "cell_type": "code",
   "execution_count": 88,
   "metadata": {},
   "outputs": [
    {
     "data": {
      "text/plain": [
       "0.9721088264714621"
      ]
     },
     "execution_count": 88,
     "metadata": {},
     "output_type": "execute_result"
    }
   ],
   "source": [
    "test_results.rootMeanSquaredError"
   ]
  },
  {
   "cell_type": "code",
   "execution_count": 89,
   "metadata": {},
   "outputs": [
    {
     "data": {
      "text/plain": [
       "0.9323518514799048"
      ]
     },
     "execution_count": 89,
     "metadata": {},
     "output_type": "execute_result"
    }
   ],
   "source": [
    "test_results.r2"
   ]
  },
  {
   "cell_type": "code",
   "execution_count": 90,
   "metadata": {},
   "outputs": [],
   "source": [
    "unlabeled_data = test_data.select('features')"
   ]
  },
  {
   "cell_type": "code",
   "execution_count": 91,
   "metadata": {},
   "outputs": [],
   "source": [
    "predictions = lr_model.transform(unlabeled_data)"
   ]
  },
  {
   "cell_type": "code",
   "execution_count": 92,
   "metadata": {},
   "outputs": [
    {
     "name": "stdout",
     "output_type": "stream",
     "text": [
      "+--------------------+------------------+\n",
      "|            features|        prediction|\n",
      "+--------------------+------------------+\n",
      "|[4.0,220.0,54.0,1...| 21.29318854988316|\n",
      "|[6.0,93.0,23.94,9...| 10.33903926624408|\n",
      "|[6.0,110.23899999...|11.115080390157296|\n",
      "|[6.0,113.0,37.82,...|11.671923339574423|\n",
      "|[7.0,158.0,43.7,1...|13.957762459165435|\n",
      "|[9.0,88.5,21.24,9...|  9.33645111178242|\n",
      "|[9.0,105.0,27.2,8...|11.271266123595069|\n",
      "|[9.0,113.0,26.74,...|11.324980029779216|\n",
      "|[10.0,81.76899999...| 8.512928011973287|\n",
      "|[10.0,86.0,21.14,...|    9.409544273502|\n",
      "|[10.0,110.0,29.74...| 12.03934298181909|\n",
      "|[10.0,138.0,31.14...|13.050362770243776|\n",
      "|[11.0,86.0,21.24,...| 9.265291470144495|\n",
      "|[11.0,90.0,22.4,9...| 9.793858144113566|\n",
      "|[11.0,91.0,20.32,...| 8.986220326150574|\n",
      "|[11.0,138.0,31.14...|13.037455888693275|\n",
      "|[12.0,25.0,3.88,5...| 2.918216010781542|\n",
      "|[12.0,42.0,14.8,7...| 6.495593831910288|\n",
      "|[12.0,77.104,20.0...| 8.648728972316025|\n",
      "|[12.0,88.5,21.24,...|  9.24864083676946|\n",
      "+--------------------+------------------+\n",
      "only showing top 20 rows\n",
      "\n"
     ]
    }
   ],
   "source": [
    "predictions.show()"
   ]
  },
  {
   "cell_type": "code",
   "execution_count": 93,
   "metadata": {},
   "outputs": [],
   "source": [
    "assembler = VectorAssembler(inputCols=['Age','Tonnage','passengers','length','cabins','passenger_density'], outputCol='features') #tengo las columnas de entrada y la pongo en una de salida, que será luego la de salida del algoritmo de aprendizaje.\n",
    "output = assembler.transform(df)"
   ]
  },
  {
   "cell_type": "code",
   "execution_count": 94,
   "metadata": {},
   "outputs": [],
   "source": [
    "final_data = output.select(['features', 'crew'])"
   ]
  },
  {
   "cell_type": "code",
   "execution_count": 95,
   "metadata": {},
   "outputs": [],
   "source": [
    "train_data, test_data = final_data.randomSplit([0.7, 0.3],seed=181120)"
   ]
  },
  {
   "cell_type": "code",
   "execution_count": 96,
   "metadata": {},
   "outputs": [],
   "source": [
    "lr = LinearRegression(labelCol='crew')"
   ]
  },
  {
   "cell_type": "code",
   "execution_count": 97,
   "metadata": {},
   "outputs": [],
   "source": [
    "lr_model = lr.fit(train_data)"
   ]
  },
  {
   "cell_type": "code",
   "execution_count": 98,
   "metadata": {},
   "outputs": [],
   "source": [
    "test_results = lr_model.evaluate(test_data) "
   ]
  },
  {
   "cell_type": "code",
   "execution_count": 99,
   "metadata": {},
   "outputs": [
    {
     "name": "stdout",
     "output_type": "stream",
     "text": [
      "+--------------------+\n",
      "|           residuals|\n",
      "+--------------------+\n",
      "|-0.08880751600474923|\n",
      "|  0.7896731135407489|\n",
      "| 0.41550574054428857|\n",
      "|  0.4220985498253693|\n",
      "| -0.3442936953349438|\n",
      "|  0.8271900759383293|\n",
      "| -0.4726140167545321|\n",
      "|  1.0151073976529261|\n",
      "|-0.18849528012283123|\n",
      "|-0.16393879032423264|\n",
      "| -0.4381200884023446|\n",
      "|  -1.288481406644177|\n",
      "|-0.08742130050547914|\n",
      "|  1.2298398706864013|\n",
      "|  1.0427117260243506|\n",
      "| -1.2729514957825288|\n",
      "|-0.06725781991495117|\n",
      "|  0.5046261789850996|\n",
      "|  0.9390367956134806|\n",
      "|  0.9108001689593692|\n",
      "+--------------------+\n",
      "only showing top 20 rows\n",
      "\n"
     ]
    }
   ],
   "source": [
    "test_results.residuals.show()"
   ]
  },
  {
   "cell_type": "markdown",
   "metadata": {},
   "source": [
    "Metrics for the model without the cruise line"
   ]
  },
  {
   "cell_type": "code",
   "execution_count": 100,
   "metadata": {},
   "outputs": [
    {
     "data": {
      "text/plain": [
       "0.9961861436340924"
      ]
     },
     "execution_count": 100,
     "metadata": {},
     "output_type": "execute_result"
    }
   ],
   "source": [
    "test_results.rootMeanSquaredError"
   ]
  },
  {
   "cell_type": "code",
   "execution_count": 101,
   "metadata": {},
   "outputs": [
    {
     "data": {
      "text/plain": [
       "0.9289593158444861"
      ]
     },
     "execution_count": 101,
     "metadata": {},
     "output_type": "execute_result"
    }
   ],
   "source": [
    "test_results.r2"
   ]
  },
  {
   "cell_type": "markdown",
   "metadata": {},
   "source": [
    "As we can see, the r2 for our model without cruise_line is worst than the one where we include it. The same happens with the rootMeanSquaredError. But both of them are still very good models."
   ]
  }
 ],
 "metadata": {
  "kernelspec": {
   "display_name": "Python 3",
   "language": "python",
   "name": "python3"
  },
  "language_info": {
   "codemirror_mode": {
    "name": "ipython",
    "version": 3
   },
   "file_extension": ".py",
   "mimetype": "text/x-python",
   "name": "python",
   "nbconvert_exporter": "python",
   "pygments_lexer": "ipython3",
   "version": "3.7.3"
  }
 },
 "nbformat": 4,
 "nbformat_minor": 2
}
